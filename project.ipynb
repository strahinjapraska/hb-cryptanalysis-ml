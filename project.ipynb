{
 "cells": [
  {
   "attachments": {},
   "cell_type": "markdown",
   "metadata": {},
   "source": [
    "# Cryptanalysis of HB Protocol with Machine Learning\n",
    "### Content:\n",
    "1. [Introduction](#introduction)<br> \n",
    "2. [Imports](#imports)<br>\n",
    "3. [LPN Oracle](#define-and-use-lpn-oracle-we-collect-data-from-as)<br>\n",
    "4. [Calculating threshold and Hamming weight](#calculating-threshold-and-hamming-weight)<br>  \n",
    "5. [Decision tree](#decision-tree)<br>\n",
    "6. [Random forest](#random-forest)<br>\n",
    "7. [Logistic regression and Bernoulli Naive-Bayes](#on-logitstic-regression-and-bernoulli-naive-bayes)<br>\n",
    "8. [Neural networks](#neural-networks)<br>\n",
    "9. [References](#references)</br>"
   ]
  },
  {
   "attachments": {},
   "cell_type": "markdown",
   "metadata": {},
   "source": [
    "### Introduction \n",
    "- Solving Learning Parity with Noise problem, later reffered as LPN, arises when trying to break HB protocol, a lightweight cryptographic protocol. <br>\n",
    "- Where is HB protocol used? Mostly in card readers in hotel, how does it work? <br>\n",
    "- We have reader(R) and tag(T), that's our RFID chip in a hotel card. If T communicated it's secret key in clear, adversary could simply sniff traffic and obtain the secret key.\n",
    "- We couldn't use our usual encryption algorithms like AES in RFID chips, since it has low computational power hence the low price.\n",
    "\n",
    "<b> => HB Protocol</b><br> \n",
    "- Scheme goes like this: R is repeatedly challenging T to compute something, that something is vector a, the challenge. Now T responds back with scalar product $ b = \\langle a,s \\rangle$ where s is secret key T owns, this is repeated a lot times. <br> \n",
    "- for example: $ \\langle (1,0,0,0),(1,0,1,0) \\rangle = 1\\cdot1 + 0\\cdot0 + 0\\cdot1 + 0\\cdot0 = 0+0+1+0 = 1$  <br>\n",
    "- \"+\" here is actually $\\oplus$ (calculating in $GF(2)$ or $\\mathbb{F}_2)$<br>\n",
    "<b>...still insecure</b>\n",
    "- $\\langle a_i,s \\rangle = b_i \\iff As=b ,\\forall i$, we can solve this easily.\n",
    "\n",
    "- for example: \n",
    "$\n",
    "\\begin{bmatrix} \n",
    "    1&0&1&1 \\\\\n",
    "    0&1&1&1 \\\\\n",
    "    0&0&1&0 \\\\\n",
    "    0&0&0&1\n",
    "\\end{bmatrix} \n",
    "\\quad\n",
    "\\begin{bmatrix}\n",
    "    s_1 \\\\\n",
    "    s_2 \\\\\n",
    "    s_3 \\\\\n",
    "    s4\n",
    "\\end{bmatrix}\n",
    "=\\begin{bmatrix}\n",
    "    0 \\\\ \n",
    "    1 \\\\ \n",
    "    1 \\\\ \n",
    "    0\n",
    "\\end{bmatrix}\n",
    "$ \n",
    "\n",
    "$\n",
    "\\begin{cases}\n",
    "s_1 \\oplus s_3 \\oplus s_4 = 0 \\\\\n",
    "s_2 \\oplus s_3 \\oplus s_4 = 1 \\\\\n",
    "s_3 = 1 \\\\\n",
    "s_4 = 0\n",
    "\\end{cases}\n",
    "$\n",
    "\n",
    "$ s_1 \\oplus 1 \\oplus 0 = 0 => s_1 \\oplus 1 = 0 => s_1 = 0 \\oplus 1 = 1$\n",
    "<br>\n",
    "$ s_2 \\oplus 1 \\oplus 0 = 1 => s_2 \\oplus 1 = 1 => s_2 = 1 \\oplus 1 = 0$\n",
    "\n",
    "... so the key is 1 0 1 0"
   ]
  },
  {
   "attachments": {},
   "cell_type": "markdown",
   "metadata": {},
   "source": [
    "<b> LPN </b>\n",
    "- We tweak this algorithm by adding error term $e$ to our scalar product , so T sends $\\langle a,s \\rangle + e$ back to R , with probability $1-p$ it sends $\\langle a,s \\rangle $ and with probability $p$ it flips bit from 0 to 1 (1 to 0)\n",
    "- Now adversary has to solve system of equations $A \\approx b$ , for large enough length of secrety key, this is infeasible \n",
    "\n",
    "<b> Using machine learning</b>\n",
    "- We are going to treat each row $a_i$ of matrix A as sample and $b_i = \\langle a_i,s \\rangle + e_i $ from vector b as label \n",
    "- If we throw in vector a = (0,1,0,0) (basis vector), we would recieve a guess for second bit of s (corresponding bit in a key)<br>\n",
    "$b = \\langle (1,0,0,0),s \\rangle = 0\\cdot s_1 + 1\\cdot s_2 + 0 \\cdot s_3 + 0 \\cdot s_4 = s_2$\n",
    "- (that's why i'll be using  np.eye(n) to predict key)\n",
    "\n",
    "<b>Algorithms/techniques</b>\n",
    "- Decision tree, Random forest, Logistic regression, Bernuolli Naive-Bayes, Neural networks\n"
   ]
  },
  {
   "attachments": {},
   "cell_type": "markdown",
   "metadata": {},
   "source": [
    "### Imports"
   ]
  },
  {
   "cell_type": "code",
   "execution_count": 2,
   "metadata": {},
   "outputs": [],
   "source": [
    "import numpy as np\n",
    "import pickle\n",
    "import pandas as pd \n",
    "import tensorflow as tf \n",
    "\n",
    "from termcolor import colored\n",
    "from matplotlib import pyplot as plt  \n",
    "from sklearn.linear_model import LogisticRegression \n",
    "from sklearn.tree import DecisionTreeClassifier\n",
    "from sklearn.naive_bayes import BernoulliNB\n",
    "from sklearn.ensemble import RandomForestClassifier"
   ]
  },
  {
   "attachments": {},
   "cell_type": "markdown",
   "metadata": {},
   "source": [
    "### Define and use LPN Oracle we collect data from as:\n",
    "- It is very common in cryptography to use Oracle to get samples so that's what we'll do here.\n",
    "- Code for LPNOracle taken from [3]."
   ]
  },
  {
   "cell_type": "code",
   "execution_count": 2,
   "metadata": {},
   "outputs": [],
   "source": [
    "class LPNOracle:\n",
    "    def __init__(self, secret, error_rate):\n",
    "        self.secret = secret\n",
    "        self.dimension = len(secret)\n",
    "        self.error_rate = error_rate\n",
    "\n",
    "    def sample(self, n_amount):\n",
    "        # Create random matrix.\n",
    "        A = np.random.randint(0, 2, size=(n_amount, self.dimension))\n",
    "        # Add Bernoulli errors.\n",
    "        e = np.random.binomial(1, self.error_rate, n_amount)\n",
    "        # Compute the labels.\n",
    "        b = np.mod(A @ self.secret + e, 2)\n",
    "        return A, b"
   ]
  },
  {
   "cell_type": "code",
   "execution_count": 3,
   "metadata": {},
   "outputs": [],
   "source": [
    "def set_key_get_oracle(p,n):\n",
    "    s = np.random.randint(0,2,n)\n",
    "    lpn = LPNOracle(s,p)\n",
    "    \n",
    "    return lpn,s "
   ]
  },
  {
   "attachments": {},
   "cell_type": "markdown",
   "metadata": {},
   "source": [
    "### Calculating threshold and Hamming weight\n",
    "- here we calculate threshold with formula given in [1, page23] <br>\n",
    "$ t:= m\\tau + \\sqrt{km}$ <br> \n",
    "- where: <br>\n",
    "    1. m - number of samples \n",
    "    2. k - dimension of problem, $k\\isin \\N$ \n",
    "    3. $\\tau$ - error rate $\\tau \\isin [0,\\frac{1}{2})$"
   ]
  },
  {
   "cell_type": "code",
   "execution_count": 4,
   "metadata": {},
   "outputs": [],
   "source": [
    "def calculate_threshold(k,tau,m):\n",
    "    return m*tau + np.sqrt(k*m)"
   ]
  },
  {
   "attachments": {},
   "cell_type": "markdown",
   "metadata": {},
   "source": [
    "How do we intrepret this?<br> \n",
    "- if $wt(As'+b)\\le t$ we accept s' as correct key, otherwise we reject it\n",
    "- where:\n",
    "    1. $t$ is threshold we calculated before  \n",
    "    2. $s'$ is our prediction for key\n",
    "    3. $(A,b)\\leftarrow \\mathcal{LPN}^{m}_{k,\\tau}$ sampled from LPN oracle\n",
    "    4. $wt(\\cdot)$ is Hamming weight of vector, or number of ones in it, in code: \n",
    "    "
   ]
  },
  {
   "cell_type": "code",
   "execution_count": 5,
   "metadata": {},
   "outputs": [],
   "source": [
    "def calculate_hw(A,b,s_prime,t):\n",
    "    return np.mod(A@s_prime+b,2).sum() <= t "
   ]
  },
  {
   "cell_type": "code",
   "execution_count": 6,
   "metadata": {},
   "outputs": [],
   "source": [
    "def check_prediction(A,b,s_prime,samples,p,n,s):\n",
    "    t = calculate_threshold(n,p,samples)\n",
    "\n",
    "    percentage = np.mean(s_prime==s)*100\n",
    "\n",
    "    if calculate_hw(A,b,s_prime,t):\n",
    "        print(colored('Success','green'))\n",
    "    else:\n",
    "        print(colored('Failed','red'))\n",
    "    print(s_prime, s)\n",
    "    print(str(percentage)+\"%\")\n",
    "\n",
    "    return percentage"
   ]
  },
  {
   "attachments": {},
   "cell_type": "markdown",
   "metadata": {},
   "source": [
    "### Decision tree"
   ]
  },
  {
   "cell_type": "code",
   "execution_count": 7,
   "metadata": {},
   "outputs": [],
   "source": [
    "def train_dt(A,b,n):\n",
    "    dt = DecisionTreeClassifier(criterion='entropy')\n",
    "\n",
    "\n",
    "    dt.fit(A,b)\n",
    "\n",
    "    s_prime = dt.predict(np.eye(n))\n",
    " \n",
    "    return s_prime"
   ]
  },
  {
   "cell_type": "code",
   "execution_count": 224,
   "metadata": {},
   "outputs": [
    {
     "name": "stdout",
     "output_type": "stream",
     "text": [
      "\u001b[32mSuccess\u001b[0m\n",
      "[0 0 0 0 0 1 1 0 1 1 1 0 1 0 0] [0 0 0 0 0 1 1 0 1 1 1 0 1 0 0]\n",
      "100.0%\n"
     ]
    }
   ],
   "source": [
    "samples = 100000\n",
    "p = 0.125 \n",
    "n = 15 \n",
    "\n",
    "lpn,s = set_key_get_oracle(p,n)\n",
    "\n",
    "A,b = lpn.sample(samples)\n",
    "\n",
    "s_prime = train_dt(A,b,n)\n",
    "\n",
    "check_prediction(A,b,s_prime,samples,p,n,s)"
   ]
  },
  {
   "cell_type": "code",
   "execution_count": 139,
   "metadata": {},
   "outputs": [],
   "source": [
    "def load_data_frames():\n",
    "    df = pd.read_csv('data/data.csv')\n",
    "    grouped = df.groupby(df.samples)\n",
    "    dfs = [] \n",
    "    samples = [10,10000,100000,1000000,10000000]\n",
    "    for s in samples: \n",
    "        dfs.append(grouped.get_group(s))\n",
    "    return dfs "
   ]
  },
  {
   "cell_type": "code",
   "execution_count": 140,
   "metadata": {},
   "outputs": [
    {
     "data": {
      "image/png": "[encoded data removed]",
      "text/plain": [
       "<Figure size 640x480 with 1 Axes>"
      ]
     },
     "metadata": {},
     "output_type": "display_data"
    }
   ],
   "source": [
    "def plot_data(classifier): \n",
    "    dfs = load_data_frames()\n",
    "    ax = dfs[0].plot(x='dimension',y='percentage',ylabel='percentage',title=classifier)\n",
    "    for df in dfs[1:]: \n",
    "        df.plot(ax=ax,x='dimension',y='percentage',ylabel='percentage',title=classifier)\n",
    "    ax.legend([10,10000,100000,1000000,10000000])\n",
    "\n",
    "plot_data('Decision tree')"
   ]
  },
  {
   "attachments": {},
   "cell_type": "markdown",
   "metadata": {},
   "source": [
    "<b>On statistics and samples</b>\n",
    "- In my plotted data i capped my samples to 10 million and dimension to 25, reason is hardware limitation of my computer(whole tree has to be loaded into memory).\n",
    "- Another reason is optimism in obtaining so much samples, namely there are smarter attacks that require only $O(n)$ (where $n$ is dimension of our problem) samples described in [2]."
   ]
  },
  {
   "cell_type": "code",
   "execution_count": 5,
   "metadata": {},
   "outputs": [
    {
     "name": "stdout",
     "output_type": "stream",
     "text": [
      "\u001b[31mFailed\u001b[0m\n",
      "[0 0 1 0 0 1 1 1 1 0 0 0 1 0 0 0 1 0 0 0 0 0 0] [0 0 1 0 1 1 1 1 1 0 0 0 1 0 0 0 1 1 0 0 0 0 0]\n",
      "91.30434782608695%\n"
     ]
    },
    {
     "data": {
      "text/plain": [
       "91.30434782608695"
      ]
     },
     "execution_count": 5,
     "metadata": {},
     "output_type": "execute_result"
    }
   ],
   "source": [
    "n = 23\n",
    "p = 0.125 \n",
    "samples = 10000000\n",
    "filename = 'decision_tree_'+str(n)+'_'+str(samples)+'.joblib'\n",
    "\n",
    "\n",
    "with open(filename,'rb') as file: \n",
    "    dt = pickle.load(file)\n",
    "    \n",
    "loaded = np.load('sampled_data.npz')\n",
    "\n",
    "A = loaded['A']\n",
    "b = loaded['b']\n",
    "s = loaded['s']\n",
    "\n",
    "s_prime = dt.predict(np.eye(n))\n",
    "\n",
    "check_prediction(A,b,s_prime,samples,p,n,s)"
   ]
  },
  {
   "attachments": {},
   "cell_type": "markdown",
   "metadata": {},
   "source": [
    "### Random forest \n",
    "- I liked the idea of ensembles and how i could use them to boost my learning, but when i've written my code i noticed it performed worse in comparison to single Decision Tree, so i figured it could be due to random forest algorithm selecting random subset of features as well as random sampling(althought not as much) and failing to learn. "
   ]
  },
  {
   "cell_type": "code",
   "execution_count": 49,
   "metadata": {},
   "outputs": [
    {
     "name": "stdout",
     "output_type": "stream",
     "text": [
      "\u001b[31mFail\u001b[0m\n",
      "[0 0 1 0 0 0 0 0 1 0 1 0 0 1 0] [0 0 1 0 0 1 0 0 1 0 1 0 1 1 0]\n",
      "86.66666666666667%\n"
     ]
    }
   ],
   "source": [
    "p = 0.125\n",
    "n = 15\n",
    "s = np.random.randint(0,2,n)\n",
    "lpn=LPNOracle(s,p)\n",
    "\n",
    "rf = RandomForestClassifier(criterion='entropy')\n",
    "\n",
    "samples = 100000\n",
    "A,b = lpn.sample(samples)\n",
    "\n",
    "rf.fit(A,b)\n",
    "\n",
    "s_prime = rf.predict(np.eye(n))\n",
    "\n",
    "check_prediction(A,b,s_prime,samples,p,n,s)"
   ]
  },
  {
   "attachments": {},
   "cell_type": "markdown",
   "metadata": {},
   "source": [
    "<b> idea</b>\n",
    "- So, i didn't really want to give up on this idea, i liked the voting factor in random forest, so i decided to simulate it somehow...\n",
    "- My first approach was to divide my data into different subsets, then to train it on that data and vote on bits of my key, it didn't really work, it would be on par with one decision tree or sometimes worse, precision-wise...\n",
    "- but then i tried picking data from my vectors A,b given from LPNOracle at random, but difference in bagging is that it takes more data than the number of samples i am given, it is less performant approach, but it outperformes single decision tree in terms of precision\n",
    "- i use 3 * number of samples and 6*n trees , i tested and came to this conclusion"
   ]
  },
  {
   "cell_type": "code",
   "execution_count": 31,
   "metadata": {},
   "outputs": [],
   "source": [
    "def my_forest(A,b,samples,n,tree_num=n*6):\n",
    "    d = tree_num\n",
    "    A,b = lpn.sample(samples)\n",
    "    s_primes = np.empty((d,n)) \n",
    "  \n",
    "    for i in range(0,d):\n",
    "        dt = DecisionTreeClassifier(criterion='entropy')\n",
    "        indexes = np.random.randint(A.shape[0],size=3*samples)\n",
    "        dt.fit(A[indexes],b[indexes])\n",
    "        s_primes[i] = dt.predict(np.eye(n)) \n",
    "        \n",
    "\n",
    "    prob = np.count_nonzero(s_primes==0,axis=0)/d\n",
    "    s_prime= prob<=0.5\n",
    "    s_prime = s_prime.astype(int) \n",
    "\n",
    "    return s_prime "
   ]
  },
  {
   "cell_type": "code",
   "execution_count": 229,
   "metadata": {},
   "outputs": [
    {
     "name": "stdout",
     "output_type": "stream",
     "text": [
      "\u001b[34mMy forest algorithm\u001b[0m\n",
      "\u001b[32mSuccess\u001b[0m\n",
      "[0 1 1 1 0 1 0 0 0 1 0 0 0 1 1] [0 1 1 1 0 1 0 0 0 1 0 0 0 1 1]\n",
      "100.0%\n",
      "\u001b[34mSingle decision tree\u001b[0m\n",
      "\u001b[31mFail\u001b[0m\n",
      "[1 1 0 1 1 1 0 0 0 1 0 0 0 1 1] [0 1 1 1 0 1 0 0 0 1 0 0 0 1 1]\n",
      "80.0%\n"
     ]
    }
   ],
   "source": [
    "samples = 75000\n",
    "p = 0.125 \n",
    "n = 15 \n",
    "lpn,s=set_key_get_oracle(p,n)\n",
    "A,b = lpn.sample(samples)\n",
    "\n",
    "s_prime = my_forest(A,b,samples,n)\n",
    "\n",
    "print(colored('My forest algorithm','blue'))\n",
    "check_prediction(A,b,s_prime,samples,p,n,s)\n",
    "\n",
    "s_prime = train_dt(A,b,n)\n",
    "\n",
    "print(colored('Single decision tree','blue'))\n",
    "check_prediction(A,b,s_prime,samples,p,n,s)"
   ]
  },
  {
   "attachments": {},
   "cell_type": "markdown",
   "metadata": {},
   "source": [
    "### On Logitstic regression and Bernoulli Naive-Bayes \n",
    "- i was expecting Bernoulli Naive-Bayes to be more performant, but in general training both of these algorithms, they have very low precision, works on keys that hold very bad statistical properties, for instance they only learned on keys that are basis vector( [1 0 0 0 0]), nevertheless let me show..."
   ]
  },
  {
   "cell_type": "code",
   "execution_count": 36,
   "metadata": {},
   "outputs": [
    {
     "name": "stdout",
     "output_type": "stream",
     "text": [
      "\u001b[31mFailed\u001b[0m\n",
      "[1 0 1 1 1 0 0 1 1 1 1 0 1 1 1] [0 1 1 0 0 1 1 0 0 1 1 1 1 0 1]\n",
      "33.33333333333333%\n"
     ]
    },
    {
     "data": {
      "text/plain": [
       "33.33333333333333"
      ]
     },
     "execution_count": 36,
     "metadata": {},
     "output_type": "execute_result"
    }
   ],
   "source": [
    "samples = 1000000\n",
    "p = 0.125 \n",
    "n = 15 \n",
    "lpn,s = set_key_get_oracle(p,n)\n",
    "A,b = lpn.sample(samples)\n",
    "\n",
    "bnb = BernoulliNB()\n",
    "bnb.fit(A,b)\n",
    "s_prime = bnb.predict(np.eye(n))\n",
    "\n",
    "check_prediction(A,b,s_prime,samples,p,n,s)"
   ]
  },
  {
   "cell_type": "code",
   "execution_count": 49,
   "metadata": {},
   "outputs": [
    {
     "name": "stdout",
     "output_type": "stream",
     "text": [
      "\u001b[31mFailed\u001b[0m\n",
      "[0 0 0 0 0 0 0 1 0 0 0 0 0 0 0] [0 0 1 1 1 1 0 1 0 1 1 0 0 1 1]\n",
      "46.666666666666664%\n"
     ]
    },
    {
     "data": {
      "text/plain": [
       "46.666666666666664"
      ]
     },
     "execution_count": 49,
     "metadata": {},
     "output_type": "execute_result"
    }
   ],
   "source": [
    "samples = 100000\n",
    "p = 0.125 \n",
    "n = 15 \n",
    "lpn,s = set_key_get_oracle(p,n)\n",
    "A,b = lpn.sample(samples)\n",
    "\n",
    "clf = LogisticRegression()\n",
    "clf.fit(A,b)\n",
    "s_prime = clf.predict(np.eye(n))\n",
    "\n",
    "check_prediction(A,b,s_prime,samples,p,n,s)"
   ]
  },
  {
   "attachments": {},
   "cell_type": "markdown",
   "metadata": {},
   "source": [
    "### Neural networks"
   ]
  },
  {
   "attachments": {},
   "cell_type": "markdown",
   "metadata": {},
   "source": [
    "- What i've noticed about Neural Networks is that it converges quickly to say 0.8 accuracy, it outperforms decision tree and it doesn't need that much data at all. Our model with n=15 and needing only 7500 samples, meanwhile decision tree needs 100000.\n",
    "- Best results was learning n=29 with 4 million samples, followed by n=30 with 5 million samples and accuracy of 96%,it needs ~10 times less samples than Decision tree \n",
    "- Another observation is that >=0.8 accuracy is good enough to predict the correct key.\n",
    "- I used rather simple Neural Network to learn, down below is training i used (tweaks in epochs and batch_size when traning bigger dimension problems), but on simpler version so it can be tested fast "
   ]
  },
  {
   "cell_type": "code",
   "execution_count": 239,
   "metadata": {},
   "outputs": [
    {
     "name": "stdout",
     "output_type": "stream",
     "text": [
      "Epoch 1/50\n",
      "782/782 [==============================] - 2s 2ms/step - loss: 0.6955 - accuracy: 0.5002\n",
      "Epoch 2/50\n",
      "782/782 [==============================] - 1s 2ms/step - loss: 0.6941 - accuracy: 0.5006\n",
      "Epoch 3/50\n",
      "782/782 [==============================] - 1s 2ms/step - loss: 0.6933 - accuracy: 0.5097\n",
      "Epoch 4/50\n",
      "782/782 [==============================] - 1s 2ms/step - loss: 0.6928 - accuracy: 0.5123\n",
      "Epoch 5/50\n",
      "782/782 [==============================] - 1s 2ms/step - loss: 0.6918 - accuracy: 0.5217\n",
      "Epoch 6/50\n",
      "782/782 [==============================] - 1s 2ms/step - loss: 0.6917 - accuracy: 0.5214\n",
      "Epoch 7/50\n",
      "782/782 [==============================] - 1s 2ms/step - loss: 0.6912 - accuracy: 0.5251\n",
      "Epoch 8/50\n",
      "782/782 [==============================] - 1s 2ms/step - loss: 0.6907 - accuracy: 0.5284\n",
      "Epoch 9/50\n",
      "782/782 [==============================] - 1s 2ms/step - loss: 0.6904 - accuracy: 0.5298\n",
      "Epoch 10/50\n",
      "782/782 [==============================] - 1s 2ms/step - loss: 0.6884 - accuracy: 0.5403\n",
      "Epoch 11/50\n",
      "782/782 [==============================] - 1s 2ms/step - loss: 0.6861 - accuracy: 0.5534\n",
      "Epoch 12/50\n",
      "782/782 [==============================] - 1s 2ms/step - loss: 0.6841 - accuracy: 0.5629\n",
      "Epoch 13/50\n",
      "782/782 [==============================] - 1s 2ms/step - loss: 0.6820 - accuracy: 0.5678\n",
      "Epoch 14/50\n",
      "782/782 [==============================] - 1s 2ms/step - loss: 0.6795 - accuracy: 0.5728\n",
      "Epoch 15/50\n",
      "782/782 [==============================] - 1s 2ms/step - loss: 0.6763 - accuracy: 0.5827\n",
      "Epoch 16/50\n",
      "782/782 [==============================] - 1s 2ms/step - loss: 0.6727 - accuracy: 0.5901\n",
      "Epoch 17/50\n",
      "782/782 [==============================] - 2s 2ms/step - loss: 0.6670 - accuracy: 0.6029\n",
      "Epoch 18/50\n",
      "782/782 [==============================] - 1s 2ms/step - loss: 0.6557 - accuracy: 0.6277\n",
      "Epoch 19/50\n",
      "782/782 [==============================] - 1s 2ms/step - loss: 0.6465 - accuracy: 0.6415\n",
      "Epoch 20/50\n",
      "782/782 [==============================] - 2s 2ms/step - loss: 0.6356 - accuracy: 0.6551\n",
      "Epoch 21/50\n",
      "782/782 [==============================] - 1s 2ms/step - loss: 0.6233 - accuracy: 0.6686\n",
      "Epoch 22/50\n",
      "782/782 [==============================] - 1s 2ms/step - loss: 0.6127 - accuracy: 0.6774\n",
      "Epoch 23/50\n",
      "782/782 [==============================] - 1s 2ms/step - loss: 0.6035 - accuracy: 0.6783\n",
      "Epoch 24/50\n",
      "782/782 [==============================] - 1s 2ms/step - loss: 0.5955 - accuracy: 0.6800\n",
      "Epoch 25/50\n",
      "782/782 [==============================] - 2s 2ms/step - loss: 0.5888 - accuracy: 0.6826\n",
      "Epoch 26/50\n",
      "782/782 [==============================] - 2s 2ms/step - loss: 0.5806 - accuracy: 0.6891\n",
      "Epoch 27/50\n",
      "782/782 [==============================] - 2s 2ms/step - loss: 0.5717 - accuracy: 0.6988\n",
      "Epoch 28/50\n",
      "782/782 [==============================] - 1s 2ms/step - loss: 0.5617 - accuracy: 0.7136\n",
      "Epoch 29/50\n",
      "782/782 [==============================] - 2s 2ms/step - loss: 0.5507 - accuracy: 0.7298\n",
      "Epoch 30/50\n",
      "782/782 [==============================] - 1s 2ms/step - loss: 0.5404 - accuracy: 0.7460\n",
      "Epoch 31/50\n",
      "782/782 [==============================] - 2s 2ms/step - loss: 0.5304 - accuracy: 0.7591\n",
      "Epoch 32/50\n",
      "782/782 [==============================] - 1s 2ms/step - loss: 0.5211 - accuracy: 0.7692\n",
      "Epoch 33/50\n",
      "782/782 [==============================] - 1s 2ms/step - loss: 0.5125 - accuracy: 0.7758\n",
      "Epoch 34/50\n",
      "782/782 [==============================] - 1s 2ms/step - loss: 0.5050 - accuracy: 0.7796\n",
      "Epoch 35/50\n",
      "782/782 [==============================] - 1s 2ms/step - loss: 0.4986 - accuracy: 0.7809\n",
      "Epoch 36/50\n",
      "782/782 [==============================] - 1s 2ms/step - loss: 0.4920 - accuracy: 0.7810\n",
      "Epoch 37/50\n",
      "782/782 [==============================] - 1s 2ms/step - loss: 0.4870 - accuracy: 0.7813\n",
      "Epoch 38/50\n",
      "782/782 [==============================] - 1s 2ms/step - loss: 0.4823 - accuracy: 0.7808\n",
      "Epoch 39/50\n",
      "782/782 [==============================] - 1s 2ms/step - loss: 0.4788 - accuracy: 0.7817\n",
      "Epoch 40/50\n",
      "782/782 [==============================] - 1s 2ms/step - loss: 0.4750 - accuracy: 0.7823\n",
      "Epoch 41/50\n",
      "782/782 [==============================] - 1s 2ms/step - loss: 0.4719 - accuracy: 0.7838\n",
      "Epoch 42/50\n",
      "782/782 [==============================] - 1s 2ms/step - loss: 0.4694 - accuracy: 0.7836\n",
      "Epoch 43/50\n",
      "782/782 [==============================] - 1s 2ms/step - loss: 0.4668 - accuracy: 0.7841\n",
      "Epoch 44/50\n",
      "782/782 [==============================] - 1s 2ms/step - loss: 0.4651 - accuracy: 0.7832\n",
      "Epoch 45/50\n",
      "782/782 [==============================] - 1s 2ms/step - loss: 0.4629 - accuracy: 0.7856\n",
      "Epoch 46/50\n",
      "782/782 [==============================] - 1s 2ms/step - loss: 0.4617 - accuracy: 0.7867\n",
      "Epoch 47/50\n",
      "782/782 [==============================] - 1s 2ms/step - loss: 0.4605 - accuracy: 0.7876\n",
      "Epoch 48/50\n",
      "782/782 [==============================] - 1s 2ms/step - loss: 0.4582 - accuracy: 0.7896\n",
      "Epoch 49/50\n",
      "782/782 [==============================] - 1s 2ms/step - loss: 0.4574 - accuracy: 0.7897\n",
      "Epoch 50/50\n",
      "782/782 [==============================] - 1s 2ms/step - loss: 0.4561 - accuracy: 0.7925\n",
      "1/1 [==============================] - 0s 66ms/step\n",
      "\u001b[32mSuccess\u001b[0m\n",
      "[1 1 1 0 1 0 0 1 0 0 1 1 1 1 1 0 0 0 0] [1 1 1 0 1 0 0 1 0 0 1 1 1 1 1 0 0 0 0]\n",
      "100.0%\n"
     ]
    }
   ],
   "source": [
    "n = 19\n",
    "p = 0.125\n",
    "samples = 50000\n",
    "\n",
    "lpn,s = set_key_get_oracle(p,n)\n",
    "A,b = lpn.sample(samples)\n",
    "\n",
    "model = tf.keras.models.Sequential()\n",
    "\n",
    "model.add(tf.keras.layers.Dense(64,input_shape=(n,),activation='relu'))\n",
    "model.add(tf.keras.layers.Dense(1,activation='sigmoid'))\n",
    "\n",
    "model.compile(loss='binary_crossentropy',optimizer='adam',metrics=['accuracy'])\n",
    "\n",
    "model.fit(A,b,epochs=50,batch_size=64)\n",
    "\n",
    "probs = model.predict(np.eye(n))\n",
    "\n",
    "threshold = 0.5\n",
    "s_prime = [1 if p >= threshold else 0 for p in probs]\n",
    "\n",
    "check_prediction(A,b,np.asarray(s_prime),samples,p,n,s)"
   ]
  },
  {
   "cell_type": "code",
   "execution_count": 9,
   "metadata": {},
   "outputs": [
    {
     "name": "stdout",
     "output_type": "stream",
     "text": [
      "1/1 [==============================] - 0s 88ms/step\n",
      "\u001b[34mPrediction:\u001b[0m[1 0 0 0 1 1 1 1 0 0 0 1 0 1 0 0 1 1 1 1 1 0 1 0 1 0 0 1 1]\n",
      "\u001b[32mReal key:\u001b[0m[1 0 0 0 1 1 1 1 0 0 0 1 0 1 0 0 1 1 1 1 1 0 1 0 1 0 0 1 1]\n"
     ]
    }
   ],
   "source": [
    "n = 29 \n",
    "model = tf.keras.models.load_model('models/nn_29_4000000.h5')\n",
    "probs = model.predict(np.eye(n))\n",
    "\n",
    "threshold = 0.5 \n",
    "s_prime = [1 if p>= threshold else 0 for p in probs]\n",
    "print(colored('Prediction:','blue')+str(np.asarray(s_prime)))\n",
    "\n",
    "secret_key = np.load('models/secret_key.npz')\n",
    "print(colored('Real key:','green')+str(secret_key['s']))"
   ]
  },
  {
   "attachments": {},
   "cell_type": "markdown",
   "metadata": {},
   "source": [
    "<b> Comparison between Decision tree and Neural network</b>\n",
    "- Data will show highest achieved accuracy for given key dimension\n",
    "\n",
    "<b> Neural network </b> \n",
    "| n | Samples | Accuracy | \n",
    "|---|---------|----------|\n",
    "|15 | 7500    | 100%     |\n",
    "|16 | 10000   | 100%     |\n",
    "|17 | 15000   | 100%     |\n",
    "|18 | 20000   | 100%     |\n",
    "|19 | 50000   | 100%     |\n",
    "|20 | 75000   | 100%     |\n",
    "|21 | 100000  | 100%     |\n",
    "|22 | 125000  | 100%     |\n",
    "|23 | 150000  | 100%     |\n",
    "|24 | 175000  | 100%     |\n",
    "|25 | 200000  | 100%     |\n",
    "|26 | 250000  | 100%     |\n",
    "|27 | 500000  | 100%     |\n",
    "|28 | 1000000 | 100%     |\n",
    "|29 | 4000000 | 100%     |\n",
    "|30 | 5000000 | 96%     |\n",
    "\n",
    "<b> Decision tree </b> \n",
    "| n | Samples | Accuracy | \n",
    "|---|---------|----------|\n",
    "|15 | 100000  | 100%     |\n",
    "|16 | 100000  | 93.75%   |\n",
    "|17 | 1000000 | 100%     |\n",
    "|18 | 1000000 | 83.3%    |\n",
    "|19 | 10000000| 100%     |\n",
    "|20 | 10000000| 100%     |\n",
    "|21 | 10000000| 95.24%   |\n",
    "|22 | 10000000| 95.45%   |\n",
    "|23 | 10000000| 65.22%   |\n",
    "|24 | 10000000| 45.83%   |\n",
    "|25 | 10000000| 76%      |\n",
    "|26 | NA      | NA       |\n",
    "|27 | NA      | NA       |\n",
    "|28 | NA      | NA       |\n",
    "|29 | NA      | NA       |\n",
    "|30 | NA      | NA       |"
   ]
  },
  {
   "attachments": {},
   "cell_type": "markdown",
   "metadata": {},
   "source": [
    "### References\n",
    "- [1] R. Kübler, Time-Memory Trade-Offs for the Learning Parity with Noise Problem (2018), Dissertation (Ruhr University Bochum) (https://hss-opus.ub.ruhr-uni-bochum.de/opus4/frontdoor/deliver/index/docId/5940/file/diss.pdf)<br> \n",
    "- [2] Gołębiewski, Z., Majcher, K., Zagórski, F., Zawada, M. (2011). Practical Attacks on HB and HB+ Protocols. In: Ardagna, C.A., Zhou, J. (eds) Information Security Theory and Practice. Security and Privacy of Mobile Devices in Wireless Communication. WISTP 2011 (https://link.springer.com/chapter/10.1007/978-3-642-21040-2_17) <br>\n",
    "- [3] Where Machine Learning meets Cryptography (https://towardsdatascience.com/where-machine-learning-meets-cryptography-b4a23ef54c9e)"
   ]
  }
 ],
 "metadata": {
  "kernelspec": {
   "display_name": "Python 3",
   "language": "python",
   "name": "python3"
  },
  "language_info": {
   "codemirror_mode": {
    "name": "ipython",
    "version": 3
   },
   "file_extension": ".py",
   "mimetype": "text/x-python",
   "name": "python",
   "nbconvert_exporter": "python",
   "pygments_lexer": "ipython3",
   "version": "3.11.4"
  },
  "orig_nbformat": 4
 },
 "nbformat": 4,
 "nbformat_minor": 2
}
